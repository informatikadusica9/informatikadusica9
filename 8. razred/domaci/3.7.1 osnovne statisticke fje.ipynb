{
 "cells": [
  {
   "cell_type": "markdown",
   "metadata": {},
   "source": [
    "# 1.\tОсновне статистичке функције"
   ]
  },
  {
   "cell_type": "code",
   "execution_count": 1,
   "metadata": {},
   "outputs": [],
   "source": [
    "import pandas as pd"
   ]
  },
  {
   "cell_type": "code",
   "execution_count": 2,
   "metadata": {},
   "outputs": [],
   "source": [
    "Rezultati = [[1, \"Una\",    \"Zorić\",      \"Ž\", 161, 45, 16.32, 1.21, 25],\n",
    "             [2, \"Marta\",  \"Stanojević\", \"Ž\", 165, 53, 15.44, 1.01, 16],\n",
    "             [3, \"Ognjen\", \"Novaković\",  \"M\", 171, 64, 14.56, 1.10, 5],\n",
    "             [4, \"Petra\",  \"Kaličanin\",  \"Ž\", 159, 48, 16.98, 0.89, 21],\n",
    "             [5, \"Novak\",  \"Đorđević\",   \"M\", 175, 67, 15.01, 1.32, 28],\n",
    "             [6, \"Đurđe\",  \"Martać\",     \"M\", 178, 65, 16.25, 1.18, 25],\n",
    "             [7, \"Kalina\", \"Ognjenović\", \"Ž\", 170, 62, 14.38, 0.95, 25],\n",
    "             [8, \"Vanja\",  \"Čolović\",    \"M\", 181, 72, 14.55, 0.98, 26]]"
   ]
  },
  {
   "cell_type": "code",
   "execution_count": 3,
   "metadata": {},
   "outputs": [],
   "source": [
    "T = pd.DataFrame(Rezultati)\n",
    "T.columns = [\"R. br.\", \"Ime\", \"Prezime\", \"Pol\", \"Visina\", \n",
    "                           \"Težina\", \"Trka100\", \"Skok udalj\", \"Čučnjevi\"]"
   ]
  },
  {
   "cell_type": "code",
   "execution_count": 4,
   "metadata": {},
   "outputs": [],
   "source": [
    "#Prikaz podataka iz kolone"
   ]
  },
  {
   "cell_type": "code",
   "execution_count": 5,
   "metadata": {},
   "outputs": [
    {
     "data": {
      "text/plain": [
       "0       Una\n",
       "1     Marta\n",
       "2    Ognjen\n",
       "3     Petra\n",
       "4     Novak\n",
       "5     Đurđe\n",
       "6    Kalina\n",
       "7     Vanja\n",
       "Name: Ime, dtype: object"
      ]
     },
     "execution_count": 5,
     "metadata": {},
     "output_type": "execute_result"
    }
   ],
   "source": [
    "?"
   ]
  },
  {
   "cell_type": "code",
   "execution_count": 6,
   "metadata": {},
   "outputs": [
    {
     "data": {
      "text/plain": [
       "0    16.32\n",
       "1    15.44\n",
       "2    14.56\n",
       "3    16.98\n",
       "4    15.01\n",
       "5    16.25\n",
       "6    14.38\n",
       "7    14.55\n",
       "Name: Trka100, dtype: float64"
      ]
     },
     "execution_count": 6,
     "metadata": {},
     "output_type": "execute_result"
    }
   ],
   "source": [
    "?"
   ]
  },
  {
   "cell_type": "code",
   "execution_count": 7,
   "metadata": {},
   "outputs": [],
   "source": [
    "#min, max, prosek. zbir podataka u koloni, broj podataka u koloni"
   ]
  },
  {
   "cell_type": "code",
   "execution_count": 9,
   "metadata": {},
   "outputs": [
    {
     "data": {
      "text/plain": [
       "159"
      ]
     },
     "execution_count": 9,
     "metadata": {},
     "output_type": "execute_result"
    }
   ],
   "source": [
    "?"
   ]
  },
  {
   "cell_type": "code",
   "execution_count": 10,
   "metadata": {},
   "outputs": [
    {
     "data": {
      "text/plain": [
       "181"
      ]
     },
     "execution_count": 10,
     "metadata": {},
     "output_type": "execute_result"
    }
   ],
   "source": [
    "?"
   ]
  },
  {
   "cell_type": "code",
   "execution_count": 11,
   "metadata": {},
   "outputs": [
    {
     "data": {
      "text/plain": [
       "170.0"
      ]
     },
     "execution_count": 11,
     "metadata": {},
     "output_type": "execute_result"
    }
   ],
   "source": [
    "?"
   ]
  },
  {
   "cell_type": "code",
   "execution_count": 12,
   "metadata": {},
   "outputs": [
    {
     "data": {
      "text/plain": [
       "1360"
      ]
     },
     "execution_count": 12,
     "metadata": {},
     "output_type": "execute_result"
    }
   ],
   "source": [
    "?"
   ]
  },
  {
   "cell_type": "code",
   "execution_count": 13,
   "metadata": {},
   "outputs": [
    {
     "data": {
      "text/plain": [
       "8"
      ]
     },
     "execution_count": 13,
     "metadata": {},
     "output_type": "execute_result"
    }
   ],
   "source": [
    "?"
   ]
  },
  {
   "cell_type": "code",
   "execution_count": null,
   "metadata": {},
   "outputs": [],
   "source": [
    "#prosek skoka u dalj u promenljivoj Ps"
   ]
  },
  {
   "cell_type": "code",
   "execution_count": 14,
   "metadata": {},
   "outputs": [],
   "source": [
    "Ps=T[\"Skok udalj\"].???()"
   ]
  },
  {
   "cell_type": "code",
   "execution_count": 15,
   "metadata": {},
   "outputs": [
    {
     "data": {
      "text/plain": [
       "1.08"
      ]
     },
     "execution_count": 15,
     "metadata": {},
     "output_type": "execute_result"
    }
   ],
   "source": [
    "Ps"
   ]
  },
  {
   "cell_type": "code",
   "execution_count": null,
   "metadata": {},
   "outputs": [],
   "source": [
    "#Резултат уз кратак опис помоћу наредбе print() - zaokruzi na 1 decimalu"
   ]
  },
  {
   "cell_type": "code",
   "execution_count": 16,
   "metadata": {},
   "outputs": [
    {
     "name": "stdout",
     "output_type": "stream",
     "text": [
      "Prosecan skok u dalj zaokruzen na 1 decimalu: 1.1 m\n"
     ]
    }
   ],
   "source": [
    "print(\"Prosecan skok u dalj zaokruzen na 1 decimalu:\", ???(Ps,???), \"m\")"
   ]
  },
  {
   "cell_type": "code",
   "execution_count": null,
   "metadata": {},
   "outputs": [],
   "source": [
    "#Primena statistickih fja na celu tabelu min i max"
   ]
  },
  {
   "cell_type": "code",
   "execution_count": 17,
   "metadata": {},
   "outputs": [
    {
     "data": {
      "text/plain": [
       "R. br.                1\n",
       "Ime              Kalina\n",
       "Prezime       Kaličanin\n",
       "Pol                   M\n",
       "Visina              159\n",
       "Težina               45\n",
       "Trka100           14.38\n",
       "Skok udalj         0.89\n",
       "Čučnjevi              5\n",
       "dtype: object"
      ]
     },
     "execution_count": 17,
     "metadata": {},
     "output_type": "execute_result"
    }
   ],
   "source": [
    "T.???()"
   ]
  },
  {
   "cell_type": "code",
   "execution_count": 31,
   "metadata": {},
   "outputs": [
    {
     "data": {
      "text/plain": [
       "R. br.               8\n",
       "Ime              Đurđe\n",
       "Prezime       Đorđević\n",
       "Pol                  Ž\n",
       "Visina             181\n",
       "Težina              72\n",
       "Trka100          16.98\n",
       "Skok udalj        1.32\n",
       "Čučnjevi            28\n",
       "dtype: object"
      ]
     },
     "execution_count": 31,
     "metadata": {},
     "output_type": "execute_result"
    }
   ],
   "source": [
    "T.???()"
   ]
  },
  {
   "cell_type": "code",
   "execution_count": null,
   "metadata": {},
   "outputs": [],
   "source": [
    "#vezbanje sa strane 171"
   ]
  },
  {
   "cell_type": "code",
   "execution_count": 32,
   "metadata": {},
   "outputs": [
    {
     "name": "stdout",
     "output_type": "stream",
     "text": [
      "Min i max visine:  159 181\n"
     ]
    }
   ],
   "source": [
    "print(\"Min i max visine: \",T[\"?\"].?(),T[\"?\"].?())"
   ]
  },
  {
   "cell_type": "code",
   "execution_count": 33,
   "metadata": {},
   "outputs": [
    {
     "name": "stdout",
     "output_type": "stream",
     "text": [
      "Min i max Težina:  45 72\n"
     ]
    }
   ],
   "source": [
    "print(\"Min i max Težina: \",T[\"?\"].?(),T[\"?\"].?())"
   ]
  },
  {
   "cell_type": "code",
   "execution_count": 34,
   "metadata": {},
   "outputs": [
    {
     "name": "stdout",
     "output_type": "stream",
     "text": [
      "Min i max Trka100:  14.38 16.98\n"
     ]
    }
   ],
   "source": [
    "print(\"Min i max Trka100: \",T[\"?\"].?(),T[\"?\"].?())"
   ]
  },
  {
   "cell_type": "code",
   "execution_count": 35,
   "metadata": {},
   "outputs": [
    {
     "name": "stdout",
     "output_type": "stream",
     "text": [
      "Min i max Skok udalj:  0.89 1.32\n"
     ]
    }
   ],
   "source": [
    "print(\"Min i max Skok udalj: \",T[\"?\"].?(),T[\"? udalj\"].?())"
   ]
  },
  {
   "cell_type": "code",
   "execution_count": 36,
   "metadata": {},
   "outputs": [
    {
     "name": "stdout",
     "output_type": "stream",
     "text": [
      "Min i max Čučnjevi:  5 28\n"
     ]
    }
   ],
   "source": [
    "print(\"Min i max Čučnjevi: \",T[\"?\"].?(),T[\"?\"].?())"
   ]
  },
  {
   "cell_type": "markdown",
   "metadata": {},
   "source": [
    "# Frekvencijska analiza "
   ]
  },
  {
   "cell_type": "code",
   "execution_count": null,
   "metadata": {},
   "outputs": [],
   "source": [
    "#kolone Pol value_counts()"
   ]
  },
  {
   "cell_type": "code",
   "execution_count": 37,
   "metadata": {},
   "outputs": [],
   "source": [
    "FP=?"
   ]
  },
  {
   "cell_type": "code",
   "execution_count": 38,
   "metadata": {},
   "outputs": [
    {
     "data": {
      "text/plain": [
       "Ž    4\n",
       "M    4\n",
       "Name: Pol, dtype: int64"
      ]
     },
     "execution_count": 38,
     "metadata": {},
     "output_type": "execute_result"
    }
   ],
   "source": [
    "FP"
   ]
  },
  {
   "cell_type": "code",
   "execution_count": null,
   "metadata": {},
   "outputs": [],
   "source": []
  }
 ],
 "metadata": {
  "kernelspec": {
   "display_name": "Python 3 (ipykernel)",
   "language": "python",
   "name": "python3"
  },
  "language_info": {
   "codemirror_mode": {
    "name": "ipython",
    "version": 3
   },
   "file_extension": ".py",
   "mimetype": "text/x-python",
   "name": "python",
   "nbconvert_exporter": "python",
   "pygments_lexer": "ipython3",
   "version": "3.9.13"
  }
 },
 "nbformat": 4,
 "nbformat_minor": 2
}
