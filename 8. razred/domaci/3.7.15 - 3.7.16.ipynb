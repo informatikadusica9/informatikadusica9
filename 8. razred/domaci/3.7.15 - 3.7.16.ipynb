{
 "cells": [
  {
   "cell_type": "code",
   "execution_count": null,
   "metadata": {},
   "outputs": [],
   "source": [
    "import pandas as pd"
   ]
  },
  {
   "cell_type": "code",
   "execution_count": null,
   "metadata": {},
   "outputs": [],
   "source": [
    "Rezultati = [[1, \"Una\",    \"Zorić\",      \"Ž\", 161, 45, 16.32, 1.21, 25],\n",
    "             [2, \"Marta\",  \"Stanojević\", \"Ž\", 165, 53, 15.44, 1.01, 16],\n",
    "             [3, \"Ognjen\", \"Novaković\",  \"M\", 171, 64, 14.56, 1.10, 5],\n",
    "             [4, \"Petra\",  \"Kaličanin\",  \"Ž\", 159, 48, 16.98, 0.89, 21],\n",
    "             [5, \"Novak\",  \"Đorđević\",   \"M\", 175, 67, 15.01, 1.32, 28],\n",
    "             [6, \"Đurđe\",  \"Martać\",     \"M\", 178, 65, 16.25, 1.18, 25],\n",
    "             [7, \"Kalina\", \"Ognjenović\", \"Ž\", 170, 62, 14.38, 0.95, 25],\n",
    "             [8, \"Vanja\",  \"Čolović\",    \"M\", 181, 72, 14.55, 0.98, 26]]"
   ]
  },
  {
   "cell_type": "code",
   "execution_count": null,
   "metadata": {},
   "outputs": [],
   "source": [
    "T = pd.DataFrame(Rezultati)\n",
    "T.columns = [\"R. br.\", \"Ime\", \"Prezime\", \"Pol\", \"Visina\", \n",
    "                           \"Težina\", \"Trka100\", \"Skok udalj\", \"Čučnjevi\"]"
   ]
  },
  {
   "cell_type": "code",
   "execution_count": null,
   "metadata": {},
   "outputs": [],
   "source": [
    "T"
   ]
  },
  {
   "cell_type": "code",
   "execution_count": null,
   "metadata": {},
   "outputs": [],
   "source": []
  },
  {
   "cell_type": "code",
   "execution_count": null,
   "metadata": {},
   "outputs": [],
   "source": []
  },
  {
   "cell_type": "markdown",
   "metadata": {},
   "source": [
    "**Upotreba formula**"
   ]
  },
  {
   "cell_type": "code",
   "execution_count": null,
   "metadata": {},
   "outputs": [],
   "source": [
    "#formiranje kolone BMI"
   ]
  },
  {
   "cell_type": "code",
   "execution_count": null,
   "metadata": {},
   "outputs": [],
   "source": [
    "T[\"BMI\"] = ?"
   ]
  },
  {
   "cell_type": "code",
   "execution_count": null,
   "metadata": {},
   "outputs": [],
   "source": [
    "T"
   ]
  },
  {
   "cell_type": "code",
   "execution_count": null,
   "metadata": {},
   "outputs": [],
   "source": [
    "#popunjavanje kolone BMI sa kolicnikom tezine i (visine/100) na kvadrat"
   ]
  },
  {
   "cell_type": "code",
   "execution_count": null,
   "metadata": {},
   "outputs": [],
   "source": [
    "T[\"BMI\"] = ?"
   ]
  },
  {
   "cell_type": "code",
   "execution_count": null,
   "metadata": {},
   "outputs": [],
   "source": [
    "#formiranje kolone gde se spajaju ime i prezime"
   ]
  },
  {
   "cell_type": "code",
   "execution_count": null,
   "metadata": {},
   "outputs": [],
   "source": [
    "T[\"PI\"]=T[\"??\"]+\" \"+??[\"Prezime\"]"
   ]
  }
 ],
 "metadata": {
  "kernelspec": {
   "display_name": "Python 3 (ipykernel)",
   "language": "python",
   "name": "python3"
  },
  "language_info": {
   "codemirror_mode": {
    "name": "ipython",
    "version": 3
   },
   "file_extension": ".py",
   "mimetype": "text/x-python",
   "name": "python",
   "nbconvert_exporter": "python",
   "pygments_lexer": "ipython3",
   "version": "3.9.13"
  }
 },
 "nbformat": 4,
 "nbformat_minor": 2
}
