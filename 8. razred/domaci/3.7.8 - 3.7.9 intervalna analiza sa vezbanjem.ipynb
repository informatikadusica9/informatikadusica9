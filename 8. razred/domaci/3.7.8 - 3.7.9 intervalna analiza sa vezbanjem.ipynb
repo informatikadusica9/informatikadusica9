{
 "cells": [
  {
   "cell_type": "code",
   "execution_count": 39,
   "metadata": {},
   "outputs": [],
   "source": [
    "import pandas as pd"
   ]
  },
  {
   "cell_type": "code",
   "execution_count": 40,
   "metadata": {},
   "outputs": [],
   "source": [
    "Rezultati = [[1, \"Una\",    \"Zorić\",      \"Ž\", 161, 45, 16.32, 1.21, 25],\n",
    "             [2, \"Marta\",  \"Stanojević\", \"Ž\", 165, 53, 15.44, 1.01, 16],\n",
    "             [3, \"Ognjen\", \"Novaković\",  \"M\", 171, 64, 14.56, 1.10, 5],\n",
    "             [4, \"Petra\",  \"Kaličanin\",  \"Ž\", 159, 48, 16.98, 0.89, 21],\n",
    "             [5, \"Novak\",  \"Đorđević\",   \"M\", 175, 67, 15.01, 1.32, 28],\n",
    "             [6, \"Đurđe\",  \"Martać\",     \"M\", 178, 65, 16.25, 1.18, 25],\n",
    "             [7, \"Kalina\", \"Ognjenović\", \"Ž\", 170, 62, 14.38, 0.95, 25],\n",
    "             [8, \"Vanja\",  \"Čolović\",    \"M\", 181, 72, 14.55, 0.98, 26]]"
   ]
  },
  {
   "cell_type": "code",
   "execution_count": 41,
   "metadata": {},
   "outputs": [],
   "source": [
    "TabelaRezultata = pd.DataFrame(Rezultati)\n",
    "TabelaRezultata.columns = [\"R. br.\", \"Ime\", \"Prezime\", \"Pol\", \"Visina\", \n",
    "                           \"Težina\", \"Trka100\", \"Skok udalj\", \"Čučnjevi\"]"
   ]
  },
  {
   "cell_type": "code",
   "execution_count": 42,
   "metadata": {},
   "outputs": [
    {
     "data": {
      "text/html": [
       "<div>\n",
       "<style scoped>\n",
       "    .dataframe tbody tr th:only-of-type {\n",
       "        vertical-align: middle;\n",
       "    }\n",
       "\n",
       "    .dataframe tbody tr th {\n",
       "        vertical-align: top;\n",
       "    }\n",
       "\n",
       "    .dataframe thead th {\n",
       "        text-align: right;\n",
       "    }\n",
       "</style>\n",
       "<table border=\"1\" class=\"dataframe\">\n",
       "  <thead>\n",
       "    <tr style=\"text-align: right;\">\n",
       "      <th></th>\n",
       "      <th>R. br.</th>\n",
       "      <th>Ime</th>\n",
       "      <th>Prezime</th>\n",
       "      <th>Pol</th>\n",
       "      <th>Visina</th>\n",
       "      <th>Težina</th>\n",
       "      <th>Trka100</th>\n",
       "      <th>Skok udalj</th>\n",
       "      <th>Čučnjevi</th>\n",
       "    </tr>\n",
       "  </thead>\n",
       "  <tbody>\n",
       "    <tr>\n",
       "      <th>0</th>\n",
       "      <td>1</td>\n",
       "      <td>Una</td>\n",
       "      <td>Zorić</td>\n",
       "      <td>Ž</td>\n",
       "      <td>161</td>\n",
       "      <td>45</td>\n",
       "      <td>16.32</td>\n",
       "      <td>1.21</td>\n",
       "      <td>25</td>\n",
       "    </tr>\n",
       "    <tr>\n",
       "      <th>1</th>\n",
       "      <td>2</td>\n",
       "      <td>Marta</td>\n",
       "      <td>Stanojević</td>\n",
       "      <td>Ž</td>\n",
       "      <td>165</td>\n",
       "      <td>53</td>\n",
       "      <td>15.44</td>\n",
       "      <td>1.01</td>\n",
       "      <td>16</td>\n",
       "    </tr>\n",
       "    <tr>\n",
       "      <th>2</th>\n",
       "      <td>3</td>\n",
       "      <td>Ognjen</td>\n",
       "      <td>Novaković</td>\n",
       "      <td>M</td>\n",
       "      <td>171</td>\n",
       "      <td>64</td>\n",
       "      <td>14.56</td>\n",
       "      <td>1.10</td>\n",
       "      <td>5</td>\n",
       "    </tr>\n",
       "    <tr>\n",
       "      <th>3</th>\n",
       "      <td>4</td>\n",
       "      <td>Petra</td>\n",
       "      <td>Kaličanin</td>\n",
       "      <td>Ž</td>\n",
       "      <td>159</td>\n",
       "      <td>48</td>\n",
       "      <td>16.98</td>\n",
       "      <td>0.89</td>\n",
       "      <td>21</td>\n",
       "    </tr>\n",
       "    <tr>\n",
       "      <th>4</th>\n",
       "      <td>5</td>\n",
       "      <td>Novak</td>\n",
       "      <td>Đorđević</td>\n",
       "      <td>M</td>\n",
       "      <td>175</td>\n",
       "      <td>67</td>\n",
       "      <td>15.01</td>\n",
       "      <td>1.32</td>\n",
       "      <td>28</td>\n",
       "    </tr>\n",
       "    <tr>\n",
       "      <th>5</th>\n",
       "      <td>6</td>\n",
       "      <td>Đurđe</td>\n",
       "      <td>Martać</td>\n",
       "      <td>M</td>\n",
       "      <td>178</td>\n",
       "      <td>65</td>\n",
       "      <td>16.25</td>\n",
       "      <td>1.18</td>\n",
       "      <td>25</td>\n",
       "    </tr>\n",
       "    <tr>\n",
       "      <th>6</th>\n",
       "      <td>7</td>\n",
       "      <td>Kalina</td>\n",
       "      <td>Ognjenović</td>\n",
       "      <td>Ž</td>\n",
       "      <td>170</td>\n",
       "      <td>62</td>\n",
       "      <td>14.38</td>\n",
       "      <td>0.95</td>\n",
       "      <td>25</td>\n",
       "    </tr>\n",
       "    <tr>\n",
       "      <th>7</th>\n",
       "      <td>8</td>\n",
       "      <td>Vanja</td>\n",
       "      <td>Čolović</td>\n",
       "      <td>M</td>\n",
       "      <td>181</td>\n",
       "      <td>72</td>\n",
       "      <td>14.55</td>\n",
       "      <td>0.98</td>\n",
       "      <td>26</td>\n",
       "    </tr>\n",
       "  </tbody>\n",
       "</table>\n",
       "</div>"
      ],
      "text/plain": [
       "   R. br.     Ime     Prezime Pol  Visina  Težina  Trka100  Skok udalj  \\\n",
       "0       1     Una       Zorić   Ž     161      45    16.32        1.21   \n",
       "1       2   Marta  Stanojević   Ž     165      53    15.44        1.01   \n",
       "2       3  Ognjen   Novaković   M     171      64    14.56        1.10   \n",
       "3       4   Petra   Kaličanin   Ž     159      48    16.98        0.89   \n",
       "4       5   Novak    Đorđević   M     175      67    15.01        1.32   \n",
       "5       6   Đurđe      Martać   M     178      65    16.25        1.18   \n",
       "6       7  Kalina  Ognjenović   Ž     170      62    14.38        0.95   \n",
       "7       8   Vanja     Čolović   M     181      72    14.55        0.98   \n",
       "\n",
       "   Čučnjevi  \n",
       "0        25  \n",
       "1        16  \n",
       "2         5  \n",
       "3        21  \n",
       "4        28  \n",
       "5        25  \n",
       "6        25  \n",
       "7        26  "
      ]
     },
     "execution_count": 42,
     "metadata": {},
     "output_type": "execute_result"
    }
   ],
   "source": [
    "TabelaRezultata"
   ]
  },
  {
   "cell_type": "code",
   "execution_count": null,
   "metadata": {},
   "outputs": [],
   "source": []
  },
  {
   "cell_type": "markdown",
   "metadata": {},
   "source": [
    "**Intervalna analiza**"
   ]
  },
  {
   "cell_type": "code",
   "execution_count": 43,
   "metadata": {},
   "outputs": [],
   "source": [
    "Loš = 0\n",
    "Dobar = 0\n",
    "Odličan = 0"
   ]
  },
  {
   "cell_type": "code",
   "execution_count": 44,
   "metadata": {},
   "outputs": [],
   "source": [
    "for red in range (TabelaRezultata[\"Čučnjevi\"].count()):\n",
    "    if TabelaRezultata[\"Čučnjevi\"][red] < 20:\n",
    "        Loš = Loš + 1\n",
    "    elif (TabelaRezultata[\"Čučnjevi\"][red] >= 20 and TabelaRezultata[\"Čučnjevi\"][red] <= 25): \n",
    "        Dobar = Dobar + 1\n",
    "    elif TabelaRezultata[\"Čučnjevi\"][red] > 25: \n",
    "        Odličan = Odličan + 1"
   ]
  },
  {
   "cell_type": "code",
   "execution_count": 45,
   "metadata": {},
   "outputs": [
    {
     "name": "stdout",
     "output_type": "stream",
     "text": [
      "LOŠ rezultat je postiglo: 2 učenika.\n",
      "DOBAR rezultat je postiglo: 4 učenika.\n",
      "ODLIČAN rezultat je postiglo: 2 učenika.\n"
     ]
    }
   ],
   "source": [
    "print(\"LOŠ rezultat je postiglo:\", Loš, \"učenika.\")\n",
    "print(\"DOBAR rezultat je postiglo:\", Dobar, \"učenika.\")\n",
    "print(\"ODLIČAN rezultat je postiglo:\", Odličan, \"učenika.\")"
   ]
  },
  {
   "cell_type": "code",
   "execution_count": null,
   "metadata": {},
   "outputs": [],
   "source": []
  },
  {
   "cell_type": "code",
   "execution_count": null,
   "metadata": {},
   "outputs": [],
   "source": []
  },
  {
   "cell_type": "markdown",
   "metadata": {},
   "source": [
    "**Prikaz u procentima**"
   ]
  },
  {
   "cell_type": "code",
   "execution_count": 46,
   "metadata": {},
   "outputs": [],
   "source": [
    "BrojPodataka = TabelaRezultata[\"Čučnjevi\"].count()"
   ]
  },
  {
   "cell_type": "code",
   "execution_count": 47,
   "metadata": {},
   "outputs": [],
   "source": [
    "Procenat_loših = Loš * 100 / BrojPodataka  \n",
    "Procenat_dobrih = Dobar * 100 / BrojPodataka\n",
    "Procenat_odličnih = Odličan * 100 / BrojPodataka"
   ]
  },
  {
   "cell_type": "code",
   "execution_count": 48,
   "metadata": {},
   "outputs": [
    {
     "name": "stdout",
     "output_type": "stream",
     "text": [
      "Rezultat takmičenja u čučnjevima je:\n",
      "Procenat učenika koji su ostvarili loš rezultat je: 25.0 %\n",
      "Procenat učenika koji su ostvarili dobar rezultat je: 50.0 %\n",
      "Procenat učenika koji su ostvarili odličan rezultat je: 25.0 %\n"
     ]
    }
   ],
   "source": [
    "print(\"Rezultat takmičenja u čučnjevima je:\")\n",
    "print(\"Procenat učenika koji su ostvarili loš rezultat je:\", Procenat_loših, \"%\")\n",
    "print(\"Procenat učenika koji su ostvarili dobar rezultat je:\", Procenat_dobrih, \"%\")\n",
    "print(\"Procenat učenika koji su ostvarili odličan rezultat je:\", Procenat_odličnih, \"%\")"
   ]
  },
  {
   "cell_type": "code",
   "execution_count": 49,
   "metadata": {},
   "outputs": [],
   "source": [
    "#vezbanje na strani 173"
   ]
  },
  {
   "cell_type": "code",
   "execution_count": 50,
   "metadata": {},
   "outputs": [],
   "source": [
    "I = 0\n",
    "II = 0\n",
    "III = 0"
   ]
  },
  {
   "cell_type": "code",
   "execution_count": 51,
   "metadata": {},
   "outputs": [],
   "source": [
    "for red in range (TabelaRezultata[\"Trka100\"].count()):\n",
    "    if TabelaRezultata[\"Trka100\"][red] > 16.5:\n",
    "        I = I + 1\n",
    "    elif (TabelaRezultata[\"Trka100\"][red] <16.5 and TabelaRezultata[\"Čučnjevi\"][red] > 15): \n",
    "        II = II + 1\n",
    "    elif TabelaRezultata[\"Trka100\"][red] < 15: \n",
    "        III = III + 1"
   ]
  },
  {
   "cell_type": "code",
   "execution_count": 52,
   "metadata": {},
   "outputs": [
    {
     "name": "stdout",
     "output_type": "stream",
     "text": [
      "I mesto je postiglo: 2 učenika.\n",
      "II mesto je postiglo: 4 učenika.\n",
      "III mesto je postiglo: 2 učenika.\n"
     ]
    }
   ],
   "source": [
    "print(\"I mesto je postiglo:\", Loš, \"učenika.\")\n",
    "print(\"II mesto je postiglo:\", Dobar, \"učenika.\")\n",
    "print(\"III mesto je postiglo:\", Odličan, \"učenika.\")"
   ]
  }
 ],
 "metadata": {
  "kernelspec": {
   "display_name": "Python 3 (ipykernel)",
   "language": "python",
   "name": "python3"
  },
  "language_info": {
   "codemirror_mode": {
    "name": "ipython",
    "version": 3
   },
   "file_extension": ".py",
   "mimetype": "text/x-python",
   "name": "python",
   "nbconvert_exporter": "python",
   "pygments_lexer": "ipython3",
   "version": "3.9.13"
  }
 },
 "nbformat": 4,
 "nbformat_minor": 2
}
