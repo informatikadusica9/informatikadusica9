{
 "cells": [
  {
   "cell_type": "code",
   "execution_count": null,
   "metadata": {},
   "outputs": [],
   "source": [
    "#kreiranje ugnježđene liste Rezultati\n",
    "Rezultati = [[1, \"Una\",    \"Zorić\",      16.32, 1.21, 25],\n",
    "             [2, \"Marta\",  \"Stanojević\", 15.44, 1.01, 16],\n",
    "             [3, \"Ognjen\", \"Novaković\",  14.56, 1.10, 5],\n",
    "             [4, \"Petra\",  \"Kaličanin\",  16.98, 0.89, 21],\n",
    "             [5, \"Novak\",  \"Đorđević\",   15.01, 1.32, 28],\n",
    "             [6, \"Đurđe\",  \"Martać\",     16.25, 1.18, 25],\n",
    "             [7, \"Kalina\", \"Ognjenović\", 14.38, 0.95, 25],\n",
    "             [8, \"Vanja\",  \"Čolović\",    14.55, 0.98, 26]]"
   ]
  },
  {
   "cell_type": "markdown",
   "metadata": {},
   "source": [
    "#DEFINISANJE TABELE PREKO DATAFRAME"
   ]
  },
  {
   "cell_type": "code",
   "execution_count": null,
   "metadata": {},
   "outputs": [],
   "source": [
    "#uvoz biblioteke pandas\n",
    "import ? as pd"
   ]
  },
  {
   "cell_type": "code",
   "execution_count": null,
   "metadata": {},
   "outputs": [],
   "source": [
    "#pravljenje tabele od ugnježđene liste\n",
    "TabelaRezultata = pd.?(Rezultati)"
   ]
  },
  {
   "cell_type": "code",
   "execution_count": null,
   "metadata": {},
   "outputs": [],
   "source": [
    "#prikaz kreirane tabele\n",
    "?"
   ]
  },
  {
   "cell_type": "code",
   "execution_count": null,
   "metadata": {
    "scrolled": true
   },
   "outputs": [],
   "source": [
    "#dodeljivanje naziva kolonama\n",
    "TabelaRezultata.? = [\"R. br.\", \"Ime\", \"Prezime\", \"Trka100m\", \"Skok udalj\", \"Čučnjevi\"]"
   ]
  },
  {
   "cell_type": "code",
   "execution_count": null,
   "metadata": {
    "scrolled": true
   },
   "outputs": [],
   "source": [
    "TabelaRezultata"
   ]
  },
  {
   "cell_type": "markdown",
   "metadata": {},
   "source": [
    "**Čuvanje tabele u različitim formatima**"
   ]
  },
  {
   "cell_type": "markdown",
   "metadata": {},
   "source": [
    "#Čuvanje tabele u csv formatu"
   ]
  },
  {
   "cell_type": "code",
   "execution_count": null,
   "metadata": {},
   "outputs": [],
   "source": [
    "???.to_csv(\"T.csv\", index=False, encoding = \"utf-8-sig\")"
   ]
  },
  {
   "cell_type": "markdown",
   "metadata": {},
   "source": [
    "#Čuvanje tabele u eksel formatu"
   ]
  },
  {
   "cell_type": "code",
   "execution_count": null,
   "metadata": {},
   "outputs": [],
   "source": [
    "???.???(\"T.xlsx\", index=False)"
   ]
  },
  {
   "cell_type": "markdown",
   "metadata": {},
   "source": [
    "**Učitavanje tabela iz fajlova s računara i s interneta**"
   ]
  },
  {
   "cell_type": "markdown",
   "metadata": {},
   "source": [
    "#Učitavanje tabela iz fajlova s računara i s interneta"
   ]
  },
  {
   "cell_type": "code",
   "execution_count": null,
   "metadata": {},
   "outputs": [],
   "source": [
    "??? = pd.read_csv(\"T.csv\")\n",
    "???"
   ]
  },
  {
   "cell_type": "code",
   "execution_count": null,
   "metadata": {},
   "outputs": [],
   "source": [
    "TabelaGT = pd.???(\"https://raw.githubusercontent.com/vulkanznanje/fajlovi/master/Informatika%20i%20ra%C4%8Dunarstvo%208/Zbirka%20zadataka%20za%20Jupyter%20Notebook/Ocene.csv\")\n",
    "TabelaGT"
   ]
  }
 ],
 "metadata": {
  "kernelspec": {
   "display_name": "Python 3 (ipykernel)",
   "language": "python",
   "name": "python3"
  },
  "language_info": {
   "codemirror_mode": {
    "name": "ipython",
    "version": 3
   },
   "file_extension": ".py",
   "mimetype": "text/x-python",
   "name": "python",
   "nbconvert_exporter": "python",
   "pygments_lexer": "ipython3",
   "version": "3.9.13"
  }
 },
 "nbformat": 4,
 "nbformat_minor": 2
}
