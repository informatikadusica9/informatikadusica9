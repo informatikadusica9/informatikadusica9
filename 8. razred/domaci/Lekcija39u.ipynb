{
 "cells": [
  {
   "cell_type": "markdown",
   "metadata": {},
   "source": [
    "# 3.9. Vizuelizacija podataka"
   ]
  },
  {
   "cell_type": "markdown",
   "metadata": {},
   "source": [
    "## *Izrada grafikona od listi*"
   ]
  },
  {
   "cell_type": "markdown",
   "metadata": {},
   "source": [
    "### Prvi zadatak"
   ]
  },
  {
   "cell_type": "markdown",
   "metadata": {},
   "source": [
    "1. Na osnovu podataka iz meteoroloških stanica datih u listama napravi linijski grafikon koji će prikazivati kretanje maksimalne dnevne temperature širom Srbije na dan 01.04.2020. godine.\n",
    "2. Grafikonu dodaj naslov *Maksimalne temperature na dan 01.04.2020. godne* i oznaku *Stanica* na *x*-osi. \n",
    "3. Veličinu slova za naslov promeni na 15, a za oznaku *x* ose na 13 pt.\n",
    "4. Boju linije promeni u crvenu."
   ]
  },
  {
   "cell_type": "code",
   "execution_count": 2,
   "metadata": {},
   "outputs": [],
   "source": [
    "MeteorološkeStanice = [\"BG\", \"NS\", \"Sjenica\", \"KV\", \"Kopaonik\", \"KŠ\", \"Niš\", \"Vranje\"]\n",
    "MaksimalnaTemperatura = [8.4, 8.6, -2.3, 5.0, -5.2, 6.2, 6.5, 10.1]"
   ]
  },
  {
   "cell_type": "code",
   "execution_count": null,
   "metadata": {},
   "outputs": [],
   "source": []
  },
  {
   "cell_type": "code",
   "execution_count": null,
   "metadata": {},
   "outputs": [],
   "source": []
  },
  {
   "cell_type": "code",
   "execution_count": null,
   "metadata": {},
   "outputs": [],
   "source": []
  },
  {
   "cell_type": "code",
   "execution_count": null,
   "metadata": {},
   "outputs": [],
   "source": []
  },
  {
   "cell_type": "markdown",
   "metadata": {},
   "source": [
    "### Drugi zadatak\n",
    "1. Na osnovu datih podataka meteoroloških stanica u listama napravi linijski grafikon koji će prikazivati kretanje maksimalne i minimalne temperature širom Srbije na dan 01.04.2020. godine. \n",
    "2. Grafikonu dodaj naslov *Maksimalne i minimalne temperature na dan 01.04.2020. godine*.\n",
    "3. Boju linije za seriju *MaxTemperature* promeni u crvenu, a za *MinTemperature* u plavu.\n",
    "4. Dodaj legendu na grafikon."
   ]
  },
  {
   "cell_type": "code",
   "execution_count": 8,
   "metadata": {},
   "outputs": [],
   "source": [
    "MeteorološkeStanice = [\"BG\", \"NS\", \"Sjenica\", \"KV\", \"Kopaonik\", \"KŠ\", \"Niš\", \"Vranje\"]\n",
    "MaxTemperature = [8.4, 8.6, -2.3, 5.0, -5.2, 6.2, 6.5, 10.1]\n",
    "MinTemperature = [0.8, -5.4, -5.9, -0.6, -10.2, -1.0, -0.4, -1.6]"
   ]
  },
  {
   "cell_type": "code",
   "execution_count": null,
   "metadata": {},
   "outputs": [],
   "source": []
  },
  {
   "cell_type": "code",
   "execution_count": null,
   "metadata": {},
   "outputs": [],
   "source": []
  },
  {
   "cell_type": "code",
   "execution_count": null,
   "metadata": {},
   "outputs": [],
   "source": []
  },
  {
   "cell_type": "markdown",
   "metadata": {},
   "source": [
    "### Treći zadatak\n",
    "1. Na osnovu podataka u listama napravi stubičasti grafikon na kome će se porediti atomske težine datih nemetala. \n",
    "2. Grafikonu dodaj naslov *Poređenje atomskih težina nemetala* i povećaj ga na 14 pt.\n",
    "3. Veličinu grafikona promeni na 11x5 inča."
   ]
  },
  {
   "cell_type": "code",
   "execution_count": 12,
   "metadata": {},
   "outputs": [],
   "source": [
    "Naziv = [\"Ugljenik\",\"Brom\",\"Fluor\",\"Fosfor\",\"Azot\",\"Sumpor\",\"Hlor\",\"Kiseonik\",\"Jod\"]\n",
    "AtomskaTežina = [12, 79.9, 19, 31, 14, 32.1, 35.5, 16, 126.9]"
   ]
  },
  {
   "cell_type": "code",
   "execution_count": null,
   "metadata": {},
   "outputs": [],
   "source": []
  },
  {
   "cell_type": "code",
   "execution_count": null,
   "metadata": {},
   "outputs": [],
   "source": []
  },
  {
   "cell_type": "code",
   "execution_count": null,
   "metadata": {},
   "outputs": [],
   "source": []
  },
  {
   "cell_type": "code",
   "execution_count": null,
   "metadata": {},
   "outputs": [],
   "source": []
  },
  {
   "cell_type": "markdown",
   "metadata": {},
   "source": [
    "### Četvrti zadatak\n",
    "1. Na osnovu podataka u listama napravi trakasti grafikon na kome će se porediti visine najviših vrhova navedenih planina.\n",
    "2. Grafikonu dodaj odgovarajući naslov, a po potrebi i oznake osa. \n",
    "3. Promeni boju traka u narandžastu."
   ]
  },
  {
   "cell_type": "code",
   "execution_count": 15,
   "metadata": {},
   "outputs": [],
   "source": [
    "Planine = [\"Zlatibor\", \"Rtanj\", \"Maljen\", \"Suvobor\", \"Rudnik\", \"Prokletije\", \"Šar planina\"]\n",
    "VrhoviSrbije = [1496, 1565, 1104, 864, 1132, 2694, 2748]"
   ]
  },
  {
   "cell_type": "code",
   "execution_count": null,
   "metadata": {},
   "outputs": [],
   "source": []
  },
  {
   "cell_type": "code",
   "execution_count": null,
   "metadata": {},
   "outputs": [],
   "source": []
  },
  {
   "cell_type": "code",
   "execution_count": null,
   "metadata": {},
   "outputs": [],
   "source": []
  },
  {
   "cell_type": "code",
   "execution_count": null,
   "metadata": {},
   "outputs": [],
   "source": []
  },
  {
   "cell_type": "markdown",
   "metadata": {},
   "source": [
    "### Peti zadatak\n",
    "1. Na osnovu podataka u listama napravi sektorski grafikon.\n",
    "2. Dodaj mu naslov i legendu sa nazivima država bivše SFRJ."
   ]
  },
  {
   "cell_type": "code",
   "execution_count": 20,
   "metadata": {},
   "outputs": [],
   "source": [
    "Država = [\"Srbija\",\"Hrvatska\",\"BiH\",\"Severna Makedonija\",\"Slovenija\",\"Crna Gora\"]\n",
    "Površina = [88361, 56594, 51197, 25713, 20273, 13812]"
   ]
  },
  {
   "cell_type": "code",
   "execution_count": null,
   "metadata": {},
   "outputs": [],
   "source": []
  },
  {
   "cell_type": "code",
   "execution_count": null,
   "metadata": {},
   "outputs": [],
   "source": []
  },
  {
   "cell_type": "code",
   "execution_count": null,
   "metadata": {},
   "outputs": [],
   "source": []
  },
  {
   "cell_type": "code",
   "execution_count": null,
   "metadata": {},
   "outputs": [],
   "source": []
  },
  {
   "cell_type": "markdown",
   "metadata": {},
   "source": [
    "## *Izrada grafikona od tabelarnih podataka*"
   ]
  },
  {
   "cell_type": "markdown",
   "metadata": {},
   "source": [
    "### Prvi zadatak\n",
    "1. Sa našeg *GitHub* repozitorijuma (https://github.com/vulkanznanje/Fajlovi) uvezi tabelu iz fajla *Okruzi.csv*. Sačuvaj je u promenljivu *Okruzi* pa prikaži njen sadržaj.\n",
    "2. Napravi trakasti grafikon na kome će biti prikazani brojevi stanovnika u okruzima. \n",
    "3. Grafikonu dodaj naslov *Broj stanovnika po okruzima* i oznaku *y*-ose *Okruzi*. Promeni im veličinu slova na 15 pt.\n",
    "4. Boju traka promeni u ružičastu."
   ]
  },
  {
   "cell_type": "code",
   "execution_count": null,
   "metadata": {},
   "outputs": [],
   "source": []
  },
  {
   "cell_type": "code",
   "execution_count": null,
   "metadata": {},
   "outputs": [],
   "source": []
  },
  {
   "cell_type": "code",
   "execution_count": null,
   "metadata": {},
   "outputs": [],
   "source": []
  },
  {
   "cell_type": "code",
   "execution_count": null,
   "metadata": {},
   "outputs": [],
   "source": []
  },
  {
   "cell_type": "markdown",
   "metadata": {},
   "source": [
    "### Drugi zadatak\n",
    "1. Iz tabele *Okruzi* izdvoj u novu tabelu okruge koji pripadaju regionu Šumadije i zapadne Srbije.\n",
    "2. Pomoću stubičastog grafikona uporedi površine tih okruga.\n",
    "3. Grafikonu dodaj odgovarajući naslov. Naslov povećaj na 15 pt, a ceo grafikon na 10x6 inča.\n",
    "4. Promeni boju stubića u ljubičastu."
   ]
  },
  {
   "cell_type": "code",
   "execution_count": null,
   "metadata": {},
   "outputs": [],
   "source": []
  },
  {
   "cell_type": "code",
   "execution_count": null,
   "metadata": {},
   "outputs": [],
   "source": []
  },
  {
   "cell_type": "code",
   "execution_count": null,
   "metadata": {},
   "outputs": [],
   "source": []
  },
  {
   "cell_type": "code",
   "execution_count": null,
   "metadata": {},
   "outputs": [],
   "source": []
  },
  {
   "cell_type": "markdown",
   "metadata": {},
   "source": [
    "### Treći zadatak\n",
    "1. Iz tabele *Okruzi* izdvoj u novu tabelu okruge koji pripadaju regionu Južne i istočne Srbije.\n",
    "2. Pomoću pita-grafikona uporedi površine tih okruga.\n",
    "3. Grafikonu dodaj odgovarajući naslov i legendu sa nazivima okruga. \n",
    "4. Legendu postavi u gornji desni ugao grafikona. "
   ]
  },
  {
   "cell_type": "code",
   "execution_count": null,
   "metadata": {},
   "outputs": [],
   "source": []
  },
  {
   "cell_type": "code",
   "execution_count": null,
   "metadata": {},
   "outputs": [],
   "source": []
  },
  {
   "cell_type": "code",
   "execution_count": null,
   "metadata": {},
   "outputs": [],
   "source": []
  },
  {
   "cell_type": "code",
   "execution_count": null,
   "metadata": {},
   "outputs": [],
   "source": []
  },
  {
   "cell_type": "markdown",
   "metadata": {},
   "source": [
    "### Četvrti zadatak\n",
    "1. Iz tabele *Okruzi* izdvoj u novu tabelu okruge koji pripadaju regionu Vojvodine.\n",
    "2. Pomoću linijskog grafikona prikaži brojeve stanovnika tih okruga.\n",
    "3. Grafikonu dodaj odgovarajući naslov.  "
   ]
  },
  {
   "cell_type": "code",
   "execution_count": null,
   "metadata": {},
   "outputs": [],
   "source": []
  },
  {
   "cell_type": "code",
   "execution_count": null,
   "metadata": {},
   "outputs": [],
   "source": []
  },
  {
   "cell_type": "code",
   "execution_count": null,
   "metadata": {},
   "outputs": [],
   "source": []
  },
  {
   "cell_type": "code",
   "execution_count": null,
   "metadata": {},
   "outputs": [],
   "source": []
  },
  {
   "cell_type": "markdown",
   "metadata": {},
   "source": [
    "### Peti zadatak\n",
    "1. Sa našeg *GitHub* repozitorijuma (https://github.com/vulkanznanje/Fajlovi) uvezi tabelu iz fajla *Reke u Srbiji.csv*. Sačuvaj je u promenljivu *Reke*.\n",
    "2. Iz tabele *Reke* izdvoj reke čija je dužina veća od 330 km. Rezultat sačuvaj u promenljivoj *VelikeReke*. \n",
    "3. Napravi stubičasti grafikon na kom će se porediti dužine velikih reka. "
   ]
  },
  {
   "cell_type": "code",
   "execution_count": null,
   "metadata": {},
   "outputs": [],
   "source": []
  },
  {
   "cell_type": "code",
   "execution_count": null,
   "metadata": {},
   "outputs": [],
   "source": []
  },
  {
   "cell_type": "code",
   "execution_count": null,
   "metadata": {},
   "outputs": [],
   "source": []
  },
  {
   "cell_type": "code",
   "execution_count": null,
   "metadata": {},
   "outputs": [],
   "source": []
  },
  {
   "cell_type": "markdown",
   "metadata": {},
   "source": [
    "### Šesti zadatak\n",
    "1. Iz tabele *Reke* izdvoj reke čija je dužina manja od 60 km. Rezultat sačuvaj u promenljivoj *Rečice*. \n",
    "2. Napravi trakasti grafikon na kom će se porediti dužine tih reka.\n",
    "3. Boju traka promeni u mađentu.\n",
    "4. Grafikonu dodaj odgovarajući naslov veličine slova 14 pt."
   ]
  },
  {
   "cell_type": "code",
   "execution_count": null,
   "metadata": {},
   "outputs": [],
   "source": []
  },
  {
   "cell_type": "code",
   "execution_count": null,
   "metadata": {},
   "outputs": [],
   "source": []
  },
  {
   "cell_type": "code",
   "execution_count": null,
   "metadata": {},
   "outputs": [],
   "source": []
  },
  {
   "cell_type": "code",
   "execution_count": null,
   "metadata": {},
   "outputs": [],
   "source": []
  },
  {
   "cell_type": "markdown",
   "metadata": {},
   "source": [
    "### Sedmi zadatak\n",
    "1. Sa našeg *GitHub* repozitorijuma (https://github.com/vulkanznanje/Fajlovi) uvezi tabelu iz fajla *Ocene na polugodištu.csv*. Sačuvaj je u promenljivu *Ocene*.\n",
    "2. Napravi pita-grafikon od rezultata frekvencijeske analize nad kolonom *Matematika*.\n",
    "3. Dodaj mu legendu u kojoj treba da budu ispisane ocene u opadajućem redosledu.\n",
    "4. Na parčiće pite postavi odgovarajuće procentualne vrednosti. Povećaj ih na 12 pt.\n",
    "5. Ceo grafikon povećaj na 7x7 inča."
   ]
  },
  {
   "cell_type": "code",
   "execution_count": null,
   "metadata": {},
   "outputs": [],
   "source": []
  },
  {
   "cell_type": "code",
   "execution_count": null,
   "metadata": {},
   "outputs": [],
   "source": []
  },
  {
   "cell_type": "code",
   "execution_count": null,
   "metadata": {},
   "outputs": [],
   "source": []
  },
  {
   "cell_type": "code",
   "execution_count": null,
   "metadata": {},
   "outputs": [],
   "source": []
  }
 ],
 "metadata": {
  "kernelspec": {
   "display_name": "Python 3 (ipykernel)",
   "language": "python",
   "name": "python3"
  },
  "language_info": {
   "codemirror_mode": {
    "name": "ipython",
    "version": 3
   },
   "file_extension": ".py",
   "mimetype": "text/x-python",
   "name": "python",
   "nbconvert_exporter": "python",
   "pygments_lexer": "ipython3",
   "version": "3.9.13"
  }
 },
 "nbformat": 4,
 "nbformat_minor": 2
}
