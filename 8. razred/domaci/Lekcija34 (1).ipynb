{
 "cells": [
  {
   "cell_type": "markdown",
   "metadata": {},
   "source": [
    "# 3.4. Analize pojedinačnih serija podataka"
   ]
  },
  {
   "cell_type": "markdown",
   "metadata": {
    "tags": []
   },
   "source": [
    "### Prvi zadatak\n",
    "1. Napravi listu *Temperature* sa sledećim elementima: 3, 3.5, 7.5, 12.5, 17, 20, 22.5, 22.5, 19, 14, 9, 4. \n",
    "2. Izračunaj prosečnu vrednost i sačuvaj je u promenlјivoj *Prosek*.\n",
    "3. Ispiši vrednost promenlјive *Prosek*  zaokruženu na dve decimale.\n",
    "4. Sortiraj listu prvo u opadajućem, a zatim i u rastućem redosledu.\n",
    "5. Prikaži najmanju, a zatim i najveću temperaturu uz kratke tekstualne opise."
   ]
  },
  {
   "cell_type": "code",
   "execution_count": null,
   "metadata": {
    "jupyter": {
     "source_hidden": true
    },
    "tags": []
   },
   "outputs": [],
   "source": []
  },
  {
   "cell_type": "code",
   "execution_count": 8,
   "metadata": {},
   "outputs": [],
   "source": [
    "temp=[3,3.5,7.5,12.5,17,20,22.5,22.5,19,14,9.4]"
   ]
  },
  {
   "cell_type": "code",
   "execution_count": 4,
   "metadata": {
    "tags": []
   },
   "outputs": [],
   "source": [
    "p=sum(temp)/len(temp)"
   ]
  },
  {
   "cell_type": "code",
   "execution_count": 6,
   "metadata": {
    "tags": []
   },
   "outputs": [
    {
     "data": {
      "text/plain": [
       "13.72"
      ]
     },
     "execution_count": 6,
     "metadata": {},
     "output_type": "execute_result"
    }
   ],
   "source": [
    "round(p,2)"
   ]
  },
  {
   "cell_type": "code",
   "execution_count": 12,
   "metadata": {},
   "outputs": [
    {
     "name": "stdout",
     "output_type": "stream",
     "text": [
      "[3, 3.5, 7.5, 9.4, 12.5, 14, 17, 19, 20, 22.5, 22.5]\n"
     ]
    }
   ],
   "source": [
    "print(sorted(temp))"
   ]
  },
  {
   "cell_type": "code",
   "execution_count": 14,
   "metadata": {},
   "outputs": [
    {
     "name": "stdout",
     "output_type": "stream",
     "text": [
      "najmanja temp 3\n"
     ]
    }
   ],
   "source": [
    "print(\"najmanja temp\",min(temp))"
   ]
  },
  {
   "cell_type": "code",
   "execution_count": 15,
   "metadata": {},
   "outputs": [
    {
     "name": "stdout",
     "output_type": "stream",
     "text": [
      "najveca temp 22.5\n"
     ]
    }
   ],
   "source": [
    "print(\"najveca temp\",max(temp))"
   ]
  },
  {
   "cell_type": "code",
   "execution_count": null,
   "metadata": {},
   "outputs": [],
   "source": []
  },
  {
   "cell_type": "markdown",
   "metadata": {},
   "source": [
    "### Drugi zadatak\n",
    "Na internetu pronađi podatke o visini najviših vrhova planina: *Zlatibor, Golija, Tara, Ovčar, Kablar, Jelica, Maljen, Suvobor, Rudnik*. \n",
    "- Sačuvaj ih u listu pod nazivom *VrhoviSrbije*. \n",
    "- Od liste napravi seriju podataka pod nazivom *Vrhovi*. \n",
    "- Pomoću odgovarajućih funkcija odredi i prikaži prosečnu visinu datih vrhova, najniži i najviši vrh. \n",
    "- U novu promenljivu izdvoj samo vrhove niže od 1000 m."
   ]
  },
  {
   "cell_type": "code",
   "execution_count": 16,
   "metadata": {},
   "outputs": [],
   "source": [
    "v=[1234,2445,3214,1332,1322]"
   ]
  },
  {
   "cell_type": "code",
   "execution_count": 17,
   "metadata": {},
   "outputs": [
    {
     "name": "stderr",
     "output_type": "stream",
     "text": [
      "/tmp/ipykernel_78/4080736814.py:1: DeprecationWarning: \n",
      "Pyarrow will become a required dependency of pandas in the next major release of pandas (pandas 3.0),\n",
      "(to allow more performant data types, such as the Arrow string type, and better interoperability with other libraries)\n",
      "but was not found to be installed on your system.\n",
      "If this would cause problems for you,\n",
      "please provide us feedback at https://github.com/pandas-dev/pandas/issues/54466\n",
      "        \n",
      "  import pandas as pd\n"
     ]
    }
   ],
   "source": [
    "import pandas as pd"
   ]
  },
  {
   "cell_type": "code",
   "execution_count": 19,
   "metadata": {},
   "outputs": [],
   "source": [
    "s=pd.Series(v)"
   ]
  },
  {
   "cell_type": "code",
   "execution_count": 20,
   "metadata": {},
   "outputs": [
    {
     "data": {
      "text/plain": [
       "0    1234\n",
       "1    2445\n",
       "2    3214\n",
       "3    1332\n",
       "4    1322\n",
       "dtype: int64"
      ]
     },
     "execution_count": 20,
     "metadata": {},
     "output_type": "execute_result"
    }
   ],
   "source": [
    "s"
   ]
  },
  {
   "cell_type": "code",
   "execution_count": 21,
   "metadata": {},
   "outputs": [
    {
     "data": {
      "text/plain": [
       "1909.4"
      ]
     },
     "execution_count": 21,
     "metadata": {},
     "output_type": "execute_result"
    }
   ],
   "source": [
    "s.mean()"
   ]
  },
  {
   "cell_type": "code",
   "execution_count": 22,
   "metadata": {},
   "outputs": [
    {
     "data": {
      "text/plain": [
       "1234"
      ]
     },
     "execution_count": 22,
     "metadata": {},
     "output_type": "execute_result"
    }
   ],
   "source": [
    "s.min()"
   ]
  },
  {
   "cell_type": "code",
   "execution_count": 23,
   "metadata": {},
   "outputs": [
    {
     "data": {
      "text/plain": [
       "3214"
      ]
     },
     "execution_count": 23,
     "metadata": {},
     "output_type": "execute_result"
    }
   ],
   "source": [
    "s.max()"
   ]
  },
  {
   "cell_type": "code",
   "execution_count": 31,
   "metadata": {},
   "outputs": [],
   "source": [
    "nv=s[s.values<1500]"
   ]
  },
  {
   "cell_type": "code",
   "execution_count": 32,
   "metadata": {},
   "outputs": [
    {
     "data": {
      "text/plain": [
       "0    1234\n",
       "3    1332\n",
       "4    1322\n",
       "dtype: int64"
      ]
     },
     "execution_count": 32,
     "metadata": {},
     "output_type": "execute_result"
    }
   ],
   "source": [
    "nv"
   ]
  },
  {
   "cell_type": "markdown",
   "metadata": {},
   "source": [
    "### Treći zadatak\n",
    "Na internetu pronađi podatke o dužini reka: *Dunav, Sava, Drina, Zapadna Morava, Južna Morava, Tisa, Ibar, Lepenica, Đetinja, i Lim*. \n",
    "- Od podataka napravi listu pod nazivom *RekeSrbije*. \n",
    "- Od liste napravi seriju podataka *RekeKM*. \n",
    "- Iz serije *RekeKM* izdvoj samo one duže od 300 km i sačuvaj ih u promenljivu *VelikeReke*\n",
    "- Seriju *RekeKM* preslikaj u seriju *RekeM* u kojoj će podaci biti izraženi u metrima. \n",
    "- Seriju *RekeM* sortiraj u rastućem redosledu."
   ]
  },
  {
   "cell_type": "code",
   "execution_count": 1,
   "metadata": {},
   "outputs": [],
   "source": [
    "R=[2888,1026,990,493,487,295,276,220,75 ]"
   ]
  },
  {
   "cell_type": "code",
   "execution_count": 3,
   "metadata": {},
   "outputs": [],
   "source": [
    "import pandas as pd"
   ]
  },
  {
   "cell_type": "code",
   "execution_count": 4,
   "metadata": {},
   "outputs": [],
   "source": [
    "SR=pd.Series(R)"
   ]
  },
  {
   "cell_type": "code",
   "execution_count": 5,
   "metadata": {},
   "outputs": [],
   "source": [
    "VR=SR[SR.values>300]"
   ]
  },
  {
   "cell_type": "code",
   "execution_count": 6,
   "metadata": {},
   "outputs": [
    {
     "data": {
      "text/plain": [
       "0    2888\n",
       "1    1026\n",
       "2     990\n",
       "3     493\n",
       "4     487\n",
       "dtype: int64"
      ]
     },
     "execution_count": 6,
     "metadata": {},
     "output_type": "execute_result"
    }
   ],
   "source": [
    "VR"
   ]
  },
  {
   "cell_type": "code",
   "execution_count": 10,
   "metadata": {},
   "outputs": [],
   "source": [
    "RM=SR*1000"
   ]
  },
  {
   "cell_type": "code",
   "execution_count": 11,
   "metadata": {},
   "outputs": [
    {
     "data": {
      "text/plain": [
       "0    2888000\n",
       "1    1026000\n",
       "2     990000\n",
       "3     493000\n",
       "4     487000\n",
       "5     295000\n",
       "6     276000\n",
       "7     220000\n",
       "8      75000\n",
       "dtype: int64"
      ]
     },
     "execution_count": 11,
     "metadata": {},
     "output_type": "execute_result"
    }
   ],
   "source": [
    "RM"
   ]
  },
  {
   "cell_type": "code",
   "execution_count": 12,
   "metadata": {},
   "outputs": [
    {
     "data": {
      "text/plain": [
       "8      75000\n",
       "7     220000\n",
       "6     276000\n",
       "5     295000\n",
       "4     487000\n",
       "3     493000\n",
       "2     990000\n",
       "1    1026000\n",
       "0    2888000\n",
       "dtype: int64"
      ]
     },
     "execution_count": 12,
     "metadata": {},
     "output_type": "execute_result"
    }
   ],
   "source": [
    "RM.sort_values()"
   ]
  },
  {
   "cell_type": "markdown",
   "metadata": {},
   "source": [
    "### Četvrti zadatak\n",
    "Napravi listu *Novac* sa sledećim podacima 750, 700, 1040, 950, 830, 1180, 790, 1000.\n",
    "- Od liste napravi seriju podataka *Džeparac*.\n",
    "- Seriju *Džeparac* preslikaj u četiri nove serije pod nazivima *DžeparacEvri*, *DžeparacDolari*, *DžeparacFranci* и *DžeparacFunte*. Dinarski iznosi džeparca treba da u novim serijama budu pretvoreni u odgovarajuće valute.\n",
    "- Prikaži vrednosti iz novih serija uz prateći tekst."
   ]
  },
  {
   "cell_type": "code",
   "execution_count": 13,
   "metadata": {},
   "outputs": [],
   "source": [
    "N=[750, 700, 1040, 950, 830, 1180, 790, 1000]"
   ]
  },
  {
   "cell_type": "code",
   "execution_count": 14,
   "metadata": {},
   "outputs": [],
   "source": [
    "import pandas as pd"
   ]
  },
  {
   "cell_type": "code",
   "execution_count": 15,
   "metadata": {},
   "outputs": [],
   "source": [
    "SN=pd.Series(N)"
   ]
  },
  {
   "cell_type": "code",
   "execution_count": 33,
   "metadata": {},
   "outputs": [],
   "source": [
    "SE=SN/112"
   ]
  },
  {
   "cell_type": "code",
   "execution_count": 26,
   "metadata": {},
   "outputs": [],
   "source": [
    "SD=SN//108"
   ]
  },
  {
   "cell_type": "code",
   "execution_count": 27,
   "metadata": {},
   "outputs": [],
   "source": [
    "SF=SN//123"
   ]
  },
  {
   "cell_type": "code",
   "execution_count": 28,
   "metadata": {},
   "outputs": [],
   "source": [
    "SB=SN//137"
   ]
  },
  {
   "cell_type": "code",
   "execution_count": 34,
   "metadata": {},
   "outputs": [
    {
     "name": "stdout",
     "output_type": "stream",
     "text": [
      "Evri 0     6.696429\n",
      "1     6.250000\n",
      "2     9.285714\n",
      "3     8.482143\n",
      "4     7.410714\n",
      "5    10.535714\n",
      "6     7.053571\n",
      "7     8.928571\n",
      "dtype: float64\n"
     ]
    }
   ],
   "source": [
    "print(\"Evri\",SE)"
   ]
  },
  {
   "cell_type": "code",
   "execution_count": 30,
   "metadata": {},
   "outputs": [
    {
     "name": "stdout",
     "output_type": "stream",
     "text": [
      "Dolari 0     6\n",
      "1     6\n",
      "2     9\n",
      "3     8\n",
      "4     7\n",
      "5    10\n",
      "6     7\n",
      "7     9\n",
      "dtype: int64\n"
     ]
    }
   ],
   "source": [
    "print(\"Dolari\",SD)"
   ]
  },
  {
   "cell_type": "code",
   "execution_count": 31,
   "metadata": {},
   "outputs": [
    {
     "name": "stdout",
     "output_type": "stream",
     "text": [
      "Franci 0    6\n",
      "1    5\n",
      "2    8\n",
      "3    7\n",
      "4    6\n",
      "5    9\n",
      "6    6\n",
      "7    8\n",
      "dtype: int64\n"
     ]
    }
   ],
   "source": [
    "print(\"Franci\",SF)"
   ]
  },
  {
   "cell_type": "code",
   "execution_count": 32,
   "metadata": {},
   "outputs": [
    {
     "name": "stdout",
     "output_type": "stream",
     "text": [
      "Funta 0    5\n",
      "1    5\n",
      "2    7\n",
      "3    6\n",
      "4    6\n",
      "5    8\n",
      "6    5\n",
      "7    7\n",
      "dtype: int64\n"
     ]
    }
   ],
   "source": [
    "print(\"Funta\",SB)"
   ]
  },
  {
   "cell_type": "code",
   "execution_count": null,
   "metadata": {},
   "outputs": [],
   "source": []
  }
 ],
 "metadata": {
  "kernelspec": {
   "display_name": "Python 3 (ipykernel)",
   "language": "python",
   "name": "python3"
  },
  "language_info": {
   "codemirror_mode": {
    "name": "ipython",
    "version": 3
   },
   "file_extension": ".py",
   "mimetype": "text/x-python",
   "name": "python",
   "nbconvert_exporter": "python",
   "pygments_lexer": "ipython3",
   "version": "3.9.13"
  }
 },
 "nbformat": 4,
 "nbformat_minor": 4
}
