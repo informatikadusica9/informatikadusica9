{
 "cells": [
  {
   "cell_type": "code",
   "execution_count": null,
   "id": "d099ed7c",
   "metadata": {},
   "outputs": [],
   "source": [
    "import matplotlib.pyplot as plt"
   ]
  },
  {
   "cell_type": "code",
   "execution_count": null,
   "id": "635562ca",
   "metadata": {},
   "outputs": [],
   "source": [
    "Planine = [\"Tara\", \"Zlatibor\", \"Rtanj\", \"Rudnik\", \"Golija\"]\n",
    "Vrhovi = [1544,1496,1565,1132,1833]"
   ]
  },
  {
   "cell_type": "code",
   "execution_count": null,
   "id": "8ad03c6b",
   "metadata": {},
   "outputs": [],
   "source": [
    "\n",
    "plt.show()\n",
    "plt.close"
   ]
  },
  {
   "cell_type": "code",
   "execution_count": null,
   "id": "a78eeec3",
   "metadata": {},
   "outputs": [],
   "source": [
    "\n",
    "plt.show()\n",
    "plt.close"
   ]
  }
 ],
 "metadata": {
  "kernelspec": {
   "display_name": "Python 3 (ipykernel)",
   "language": "python",
   "name": "python3"
  },
  "language_info": {
   "codemirror_mode": {
    "name": "ipython",
    "version": 3
   },
   "file_extension": ".py",
   "mimetype": "text/x-python",
   "name": "python",
   "nbconvert_exporter": "python",
   "pygments_lexer": "ipython3",
   "version": "3.9.13"
  }
 },
 "nbformat": 4,
 "nbformat_minor": 5
}
