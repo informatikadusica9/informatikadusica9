{
 "cells": [
  {
   "cell_type": "markdown",
   "metadata": {},
   "source": [
    "Примери из уџбеника са стране 153\n",
    "Рад са угњежденим листама"
   ]
  },
  {
   "cell_type": "code",
   "execution_count": 37,
   "metadata": {},
   "outputs": [],
   "source": [
    "Rezultati = [[1, \"Una\",    \"Zorić\",      16.32, 1.21, 25],\n",
    "             [2, \"Marta\",  \"Stanojević\", 15.44, 1.01, 16],\n",
    "             [3, \"Ognjen\", \"Novaković\",  14.56, 1.10, 5],\n",
    "             [4, \"Petra\",  \"Kaličanin\",  16.98, 0.89, 21],\n",
    "             [5, \"Novak\",  \"Đorđević\",   15.01, 1.32, 28],\n",
    "             [6, \"Đurđe\",  \"Martać\",     16.25, 1.18, 25],\n",
    "             [7, \"Kalina\", \"Ognjenović\", 14.38, 0.95, 25],\n",
    "             [8, \"Vanja\",  \"Čolović\",    14.55, 0.98, 26]]"
   ]
  },
  {
   "cell_type": "markdown",
   "metadata": {},
   "source": [
    "#UGNJEZDENE LISTE - ISPIS 7 reda tabele (ЕЛЕМЕНТИ У ЛИСТИ КРЕЋУ ОД 0)"
   ]
  },
  {
   "cell_type": "code",
   "execution_count": 39,
   "metadata": {},
   "outputs": [
    {
     "data": {
      "text/plain": [
       "[7, 'Kalina', 'Ognjenović', 14.38, 0.95, 25]"
      ]
     },
     "execution_count": 39,
     "metadata": {},
     "output_type": "execute_result"
    }
   ],
   "source": [
    "Rezultati[6]"
   ]
  },
  {
   "cell_type": "markdown",
   "metadata": {},
   "source": [
    "#UGNJEZDENE LISTE - ISPIS PETOG ELEMENTA U CETVRTOM REDU"
   ]
  },
  {
   "cell_type": "code",
   "execution_count": null,
   "metadata": {},
   "outputs": [],
   "source": [
    "Rezultati[3][5]"
   ]
  },
  {
   "cell_type": "markdown",
   "metadata": {},
   "source": [
    "#UGNJEZDENE LISTE - prosek 6 kolonе (чучњеви) "
   ]
  },
  {
   "cell_type": "code",
   "execution_count": 41,
   "metadata": {},
   "outputs": [],
   "source": [
    "zbirCucnjeva = 0\n",
    "for red in Rezultati:\n",
    "    zbirCucnjeva = zbirCucnjeva + red[5]\n",
    "ProsekCucnjeva = zbirCucnjeva / len(Rezultati)"
   ]
  },
  {
   "cell_type": "code",
   "execution_count": 42,
   "metadata": {},
   "outputs": [
    {
     "name": "stdout",
     "output_type": "stream",
     "text": [
      "Prosečan broj izvedenih čučnjeva je: 21.375\n"
     ]
    }
   ],
   "source": [
    "print(\"Prosečan broj izvedenih čučnjeva je:\", ProsekCucnjeva)"
   ]
  },
  {
   "cell_type": "code",
   "execution_count": 43,
   "metadata": {},
   "outputs": [],
   "source": [
    "#isto to samo drugačije zapisano"
   ]
  },
  {
   "cell_type": "code",
   "execution_count": 56,
   "metadata": {},
   "outputs": [],
   "source": [
    "z = 0\n",
    "for i in Rezultati:\n",
    "    z +=  i[5]\n",
    "PC = z / len(Rezultati)"
   ]
  },
  {
   "cell_type": "code",
   "execution_count": 57,
   "metadata": {},
   "outputs": [
    {
     "data": {
      "text/plain": [
       "21.375"
      ]
     },
     "execution_count": 57,
     "metadata": {},
     "output_type": "execute_result"
    }
   ],
   "source": [
    "PC"
   ]
  },
  {
   "cell_type": "markdown",
   "metadata": {},
   "source": [
    "**ВЕЖБАЈ sa strane 153:**"
   ]
  },
  {
   "cell_type": "markdown",
   "metadata": {},
   "source": [
    "*prikaži treći element*"
   ]
  },
  {
   "cell_type": "code",
   "execution_count": 61,
   "metadata": {},
   "outputs": [
    {
     "data": {
      "text/plain": [
       "[3, 'Ognjen', 'Novaković', 14.56, 1.1, 5]"
      ]
     },
     "execution_count": 61,
     "metadata": {},
     "output_type": "execute_result"
    }
   ],
   "source": [
    "Rezultati[2]"
   ]
  },
  {
   "cell_type": "markdown",
   "metadata": {},
   "source": [
    "*prikaži element sa indeksom 5*"
   ]
  },
  {
   "cell_type": "code",
   "execution_count": 62,
   "metadata": {},
   "outputs": [
    {
     "data": {
      "text/plain": [
       "[5, 'Novak', 'Đorđević', 15.01, 1.32, 28]"
      ]
     },
     "execution_count": 62,
     "metadata": {},
     "output_type": "execute_result"
    }
   ],
   "source": [
    "Rezultati[4]"
   ]
  },
  {
   "cell_type": "markdown",
   "metadata": {},
   "source": [
    "*Prosečnu dužinu skoka u dalj (5 kolona)*"
   ]
  },
  {
   "cell_type": "code",
   "execution_count": 60,
   "metadata": {},
   "outputs": [
    {
     "data": {
      "text/plain": [
       "1.08"
      ]
     },
     "execution_count": 60,
     "metadata": {},
     "output_type": "execute_result"
    }
   ],
   "source": [
    "z = 0\n",
    "for i in Rezultati:\n",
    "    z +=  i[4]\n",
    "PS = z / len(Rezultati)\n",
    "PS"
   ]
  },
  {
   "cell_type": "markdown",
   "metadata": {},
   "source": [
    "*Zbir vremena za koje je svaki takmičar istrčao trku na 100m (4 kolona)*"
   ]
  },
  {
   "cell_type": "code",
   "execution_count": 63,
   "metadata": {},
   "outputs": [
    {
     "data": {
      "text/plain": [
       "123.49"
      ]
     },
     "execution_count": 63,
     "metadata": {},
     "output_type": "execute_result"
    }
   ],
   "source": [
    "z = 0\n",
    "for i in Rezultati:\n",
    "    z +=  i[3]\n",
    "z"
   ]
  },
  {
   "cell_type": "markdown",
   "metadata": {},
   "source": [
    "**ВЕЖБАЈ sa strane 154:** Провери шта ради програм"
   ]
  },
  {
   "cell_type": "code",
   "execution_count": 46,
   "metadata": {},
   "outputs": [],
   "source": [
    "x = Rezultati[0][5]\n",
    "for i in range(len(Rezultati)):\n",
    "    if Rezultati[i][5] > x:\n",
    "        x = Rezultati[i][5]"
   ]
  },
  {
   "cell_type": "code",
   "execution_count": 47,
   "metadata": {},
   "outputs": [
    {
     "data": {
      "text/plain": [
       "28"
      ]
     },
     "execution_count": 47,
     "metadata": {},
     "output_type": "execute_result"
    }
   ],
   "source": [
    "x #Даје максимум последње колоне"
   ]
  },
  {
   "cell_type": "code",
   "execution_count": 48,
   "metadata": {},
   "outputs": [],
   "source": [
    "x = Rezultati[0][5]\n",
    "for i in range(len(Rezultati)):\n",
    "    if Rezultati[i][5] < x:\n",
    "        x = Rezultati[i][5]"
   ]
  },
  {
   "cell_type": "code",
   "execution_count": 49,
   "metadata": {},
   "outputs": [
    {
     "data": {
      "text/plain": [
       "5"
      ]
     },
     "execution_count": 49,
     "metadata": {},
     "output_type": "execute_result"
    }
   ],
   "source": [
    "x #Даје минимум последње колоне"
   ]
  },
  {
   "cell_type": "code",
   "execution_count": 64,
   "metadata": {},
   "outputs": [
    {
     "data": {
      "text/plain": [
       "'C:\\\\Users\\\\Desktop\\\\Documents\\\\8\\\\II\\\\27. Табеларни подаци у Jupyter-у'"
      ]
     },
     "execution_count": 64,
     "metadata": {},
     "output_type": "execute_result"
    }
   ],
   "source": [
    "pwd"
   ]
  },
  {
   "cell_type": "code",
   "execution_count": null,
   "metadata": {},
   "outputs": [],
   "source": []
  }
 ],
 "metadata": {
  "kernelspec": {
   "display_name": "Python 3 (ipykernel)",
   "language": "python",
   "name": "python3"
  },
  "language_info": {
   "codemirror_mode": {
    "name": "ipython",
    "version": 3
   },
   "file_extension": ".py",
   "mimetype": "text/x-python",
   "name": "python",
   "nbconvert_exporter": "python",
   "pygments_lexer": "ipython3",
   "version": "3.9.13"
  }
 },
 "nbformat": 4,
 "nbformat_minor": 2
}
