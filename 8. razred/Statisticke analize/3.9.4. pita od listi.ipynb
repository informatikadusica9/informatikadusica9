{
 "cells": [
  {
   "cell_type": "code",
   "execution_count": null,
   "id": "0718be16",
   "metadata": {},
   "outputs": [],
   "source": [
    "import matplotlib.pyplot as plt"
   ]
  },
  {
   "cell_type": "code",
   "execution_count": null,
   "id": "0768b025",
   "metadata": {},
   "outputs": [],
   "source": [
    "Kontinenti = [\"Azija\", \"Afrika\", \"Evropa\", \"SAmerika\", \"JAmerika\", \"Australija\", \"Antartik\"]\n",
    "Povrsina = [30.3,43.6,10.4,25.3,17.6,8.9,13.6]"
   ]
  },
  {
   "cell_type": "code",
   "execution_count": null,
   "id": "118cc182",
   "metadata": {},
   "outputs": [],
   "source": [
    "plt.pie(Povrsina, labels=Kontinenti)\n",
    "plt.show()\n",
    "plt.close"
   ]
  },
  {
   "cell_type": "code",
   "execution_count": null,
   "id": "8d2ef843",
   "metadata": {},
   "outputs": [],
   "source": [
    "#dodavanje legende, polozaj se  definise sa bbox_to_anchor=(1,1) gornji desni ugao, 0,0 donji levi"
   ]
  },
  {
   "cell_type": "code",
   "execution_count": null,
   "id": "6b44544d",
   "metadata": {},
   "outputs": [],
   "source": [
    "plt.pie(Povrsina)\n",
    "plt.legend(Kontinenti, bbox_to_anchor=(1,1))\n",
    "plt.show()\n",
    "plt.close"
   ]
  },
  {
   "cell_type": "code",
   "execution_count": null,
   "id": "8041ac7c",
   "metadata": {},
   "outputs": [],
   "source": []
  }
 ],
 "metadata": {
  "kernelspec": {
   "display_name": "Python 3 (ipykernel)",
   "language": "python",
   "name": "python3"
  },
  "language_info": {
   "codemirror_mode": {
    "name": "ipython",
    "version": 3
   },
   "file_extension": ".py",
   "mimetype": "text/x-python",
   "name": "python",
   "nbconvert_exporter": "python",
   "pygments_lexer": "ipython3",
   "version": "3.9.13"
  }
 },
 "nbformat": 4,
 "nbformat_minor": 5
}
