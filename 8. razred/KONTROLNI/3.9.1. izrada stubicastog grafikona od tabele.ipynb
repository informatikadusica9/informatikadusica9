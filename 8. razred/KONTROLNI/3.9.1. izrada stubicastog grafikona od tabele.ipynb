{
 "cells": [
  {
   "cell_type": "code",
   "execution_count": null,
   "id": "d099ed7c",
   "metadata": {},
   "outputs": [],
   "source": [
    "import matplotlib.pyplot as plt"
   ]
  },
  {
   "cell_type": "code",
   "execution_count": null,
   "id": "635562ca",
   "metadata": {},
   "outputs": [],
   "source": [
    "#fali tabela"
   ]
  },
  {
   "cell_type": "code",
   "execution_count": null,
   "id": "8ad03c6b",
   "metadata": {},
   "outputs": [],
   "source": [
    "plt.bar(tabela[\"Ime\"], tabela[\"kolona\"], label=\"kolona\", color=\"y\")\n",
    "plt.title(\"naslov na osnovu kolone\", size=15)\n",
    "plt.xlabel(\"kolona2\", size=8)\n",
    "plt.ylabel(\"kolona\", size=8)\n",
    "plt.legend()\n",
    "plt.show()\n",
    "plt.close()"
   ]
  }
 ],
 "metadata": {
  "kernelspec": {
   "display_name": "Python 3 (ipykernel)",
   "language": "python",
   "name": "python3"
  },
  "language_info": {
   "codemirror_mode": {
    "name": "ipython",
    "version": 3
   },
   "file_extension": ".py",
   "mimetype": "text/x-python",
   "name": "python",
   "nbconvert_exporter": "python",
   "pygments_lexer": "ipython3",
   "version": "3.9.13"
  }
 },
 "nbformat": 4,
 "nbformat_minor": 5
}
