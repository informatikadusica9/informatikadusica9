{
 "cells": [
  {
   "cell_type": "code",
   "execution_count": null,
   "id": "0718be16",
   "metadata": {},
   "outputs": [],
   "source": [
    "import matplotlib.pyplot as plt"
   ]
  },
  {
   "cell_type": "code",
   "execution_count": null,
   "id": "5fcbd3fb",
   "metadata": {},
   "outputs": [],
   "source": [
    "#fali tabela"
   ]
  },
  {
   "cell_type": "code",
   "execution_count": null,
   "id": "8d2ef843",
   "metadata": {},
   "outputs": [],
   "source": [
    "#dodavanje legende, polozaj se  definise sa bbox_to_anchor=(1,1) gornji desni ugao, 0,0 donji levi"
   ]
  },
  {
   "cell_type": "code",
   "execution_count": null,
   "id": "118cc182",
   "metadata": {},
   "outputs": [],
   "source": [
    "plt.pie(tabela[\"kolona\"])\n",
    "plt.legend(tabela[\"kolona2\"], bbox_to_anchor=(1,1))\n",
    "plt.title(\"Naslov na osnovu kolone \", size=15)\n",
    "plt.show()\n",
    "plt.close"
   ]
  }
 ],
 "metadata": {
  "kernelspec": {
   "display_name": "Python 3 (ipykernel)",
   "language": "python",
   "name": "python3"
  },
  "language_info": {
   "codemirror_mode": {
    "name": "ipython",
    "version": 3
   },
   "file_extension": ".py",
   "mimetype": "text/x-python",
   "name": "python",
   "nbconvert_exporter": "python",
   "pygments_lexer": "ipython3",
   "version": "3.9.13"
  }
 },
 "nbformat": 4,
 "nbformat_minor": 5
}
