{
 "cells": [
  {
   "cell_type": "code",
   "execution_count": null,
   "metadata": {},
   "outputs": [],
   "source": [
    "import pandas as pd\n",
    "import matplotlib.pyplot as plt"
   ]
  },
  {
   "cell_type": "code",
   "execution_count": null,
   "metadata": {},
   "outputs": [],
   "source": [
    "Ocene = [[1, \"Una\",    \"Zorić\",       5, 4, 2, 3, 3],\n",
    "         [2, \"Marta\",  \"Stojanović\",  5, 4, 5, 5, 4],\n",
    "         [3, \"Ognjen\", \"Novaković\",   3, 4, 3, 4, 4],\n",
    "         [4, \"Petra\",  \"Kaličanin\",   5, 5, 5, 5, 5],\n",
    "         [5, \"Novak\",  \"Đorđević\",    2, 2, 2, 3, 3],\n",
    "         [6, \"Đurđe\",  \"Martać\",      1, 1, 1, 3, 1],\n",
    "         [7, \"Kalina\", \"Ognjenović\",  5, 5, 4, 4, 2],\n",
    "         [8, \"Vanja\",  \"Čolović\",     5, 3, 5, 4, 2]]"
   ]
  },
  {
   "cell_type": "code",
   "execution_count": null,
   "metadata": {},
   "outputs": [],
   "source": [
    "TabOcene = pd.DataFrame(Ocene)\n",
    "TabOcene.columns=[\"Rbr\", \"Ime\", \"Prezime\", \"Biologija\", \n",
    "                  \"Istorija\", \"Geografija\", \"Fizika\", \"Hemija\"]"
   ]
  },
  {
   "cell_type": "code",
   "execution_count": null,
   "metadata": {},
   "outputs": [],
   "source": [
    "TabOcene"
   ]
  }
 ],
 "metadata": {
  "kernelspec": {
   "display_name": "Python 3 (ipykernel)",
   "language": "python",
   "name": "python3"
  },
  "language_info": {
   "codemirror_mode": {
    "name": "ipython",
    "version": 3
   },
   "file_extension": ".py",
   "mimetype": "text/x-python",
   "name": "python",
   "nbconvert_exporter": "python",
   "pygments_lexer": "ipython3",
   "version": "3.9.13"
  }
 },
 "nbformat": 4,
 "nbformat_minor": 2
}
