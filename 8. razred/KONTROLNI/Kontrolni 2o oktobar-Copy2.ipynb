{
 "cells": [
  {
   "cell_type": "markdown",
   "id": "f3839f8e",
   "metadata": {},
   "source": [
    "**Задатак 1** (1 поен) Покрени Jupyter Notebook и на радној површини рачунара направи нову свеску. Нека јој назив буде твоје име и презиме (нпр. Marta Zoric). "
   ]
  },
  {
   "cell_type": "markdown",
   "id": "26cc249d",
   "metadata": {},
   "source": [
    "**Задатак 2** (2 поен) Отвори фајл 3.9.8. и прекопирај прве три ћелије у фајл са својим именом"
   ]
  },
  {
   "cell_type": "markdown",
   "id": "717fc580",
   "metadata": {},
   "source": [
    "**Задатак 3** (2 поен) Преименуј TabOcene у MojeOdeljenje и прикажи садржај табеле. "
   ]
  },
  {
   "cell_type": "markdown",
   "id": "62e62278",
   "metadata": {},
   "source": [
    "**Задатак 4** (6 поена) Сортирај табелу по презимену у растућем редоследу и резултат сачувај у променљиву Sortiranje.(3.6.1)"
   ]
  },
  {
   "cell_type": "markdown",
   "id": "20c413e4",
   "metadata": {},
   "source": [
    "**Задатак 5** (7 поена) Филтрирај табелу MojeOdeljenje тако да буду приказани само ученици који из биологије имају оцену 5. (3.6.1)"
   ]
  },
  {
   "cell_type": "markdown",
   "id": "c6a4154c",
   "metadata": {},
   "source": [
    "**Задатак 6** (7 поена) Одреди просечну оцену ученика из географије и прикажи резултат уз пратећи текст (нпр. Prosek ucenika iz geografije je:). (3.7.1.)"
   ]
  },
  {
   "cell_type": "code",
   "execution_count": null,
   "id": "4136c260",
   "metadata": {},
   "outputs": [],
   "source": []
  },
  {
   "cell_type": "markdown",
   "id": "cd5cb0ef",
   "metadata": {},
   "source": [
    "**Задатак 10** (8 поена) У новој колони под називом AvgU одреди просечне оцене свих ученика. "
   ]
  },
  {
   "cell_type": "code",
   "execution_count": null,
   "id": "630e1984",
   "metadata": {},
   "outputs": [],
   "source": [
    "MojeOdeljenje[\"?\"]= ?\n",
    "MojeOdeljenje[\"AvgU\"] = ?.?[:,\"?\":\"?\"].?(axis = ?)\n",
    "MojeOdeljenje"
   ]
  },
  {
   "cell_type": "markdown",
   "id": "50629d28",
   "metadata": {},
   "source": [
    "**Задатак 12** (7 поена)\n",
    "На пита-графикону прикажи однос оцена из хемије. Графикону додај одговарајући наслов и легенду. 3.9.4"
   ]
  },
  {
   "cell_type": "code",
   "execution_count": null,
   "id": "a5871b12",
   "metadata": {},
   "outputs": [],
   "source": [
    "plt.?(MojeOdeljenje[\"?\"])\n",
    "plt.?(?[\"Ime\"], bbox_to_?=(1,1))\n",
    "plt.title(\"? \", size=15)\n",
    "plt.show()\n",
    "plt.close"
   ]
  },
  {
   "cell_type": "markdown",
   "id": "f994eda0",
   "metadata": {},
   "source": [
    "Број поена \n",
    "0 – 10\tОцена 1\n",
    "10-20    2\n",
    "20-30    3\n",
    "30-40    4\n",
    "40-      5"
   ]
  }
 ],
 "metadata": {
  "kernelspec": {
   "display_name": "Python 3 (ipykernel)",
   "language": "python",
   "name": "python3"
  },
  "language_info": {
   "codemirror_mode": {
    "name": "ipython",
    "version": 3
   },
   "file_extension": ".py",
   "mimetype": "text/x-python",
   "name": "python",
   "nbconvert_exporter": "python",
   "pygments_lexer": "ipython3",
   "version": "3.9.13"
  }
 },
 "nbformat": 4,
 "nbformat_minor": 5
}
