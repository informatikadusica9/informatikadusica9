{
 "cells": [
  {
   "cell_type": "markdown",
   "id": "f3839f8e",
   "metadata": {},
   "source": [
    "**Задатак 1** (1 поен) Покрени Jupyter Notebook и на радној површини рачунара направи нову свеску. Нека јој назив буде твоје име и презиме (нпр. Marta Zoric). "
   ]
  },
  {
   "cell_type": "markdown",
   "id": "26cc249d",
   "metadata": {},
   "source": [
    "**Задатак 2** (2 поен) Отвори фајл 3.9.8. и прекопирај прве три ћелије у фајл са својим именом"
   ]
  },
  {
   "cell_type": "markdown",
   "id": "717fc580",
   "metadata": {},
   "source": [
    "**Задатак 3** (2 поен) Преименуј TabOcene у MojeOdeljenje и прикажи садржај табеле. "
   ]
  },
  {
   "cell_type": "markdown",
   "id": "62e62278",
   "metadata": {},
   "source": [
    "**Задатак 4** (6 поена) Сортирај табелу по презимену у растућем редоследу и резултат сачувај у променљиву Sortiranje.3.6.1"
   ]
  },
  {
   "cell_type": "markdown",
   "id": "20c413e4",
   "metadata": {},
   "source": [
    "**Задатак 5** (6 поена) Филтрирај табелу MojeOdeljenje тако да буду приказани само ученици који из биологије имају оцену 5. 3.6.1"
   ]
  },
  {
   "cell_type": "markdown",
   "id": "ca592522",
   "metadata": {},
   "source": [
    "**Задатак 7** (6 поена) Изврши фреквенцијску анализу оцена из физике.3.7.1"
   ]
  },
  {
   "cell_type": "markdown",
   "id": "7f53df03",
   "metadata": {},
   "source": [
    "**Задатак 9** (8 поена) У новом реду под називом AvgO просечне оцене из свих предмета. 3.9.8"
   ]
  },
  {
   "cell_type": "markdown",
   "id": "0be87a6a",
   "metadata": {},
   "source": [
    "**Задатак 11** (9 поена) На стубичастом графикону прикажи поређење оцена ученика из географије. Графикону додај одговарајући наслов и ознаке оса. 3.9.1"
   ]
  },
  {
   "cell_type": "markdown",
   "id": "f994eda0",
   "metadata": {},
   "source": [
    "Број поена 0 – 7\tОцена 1\n",
    "8 – 15\t    2\n",
    "16 – 23 \t3\n",
    "24 – 31\t    4\n",
    "32 – 40\t    5"
   ]
  }
 ],
 "metadata": {
  "kernelspec": {
   "display_name": "Python 3 (ipykernel)",
   "language": "python",
   "name": "python3"
  },
  "language_info": {
   "codemirror_mode": {
    "name": "ipython",
    "version": 3
   },
   "file_extension": ".py",
   "mimetype": "text/x-python",
   "name": "python",
   "nbconvert_exporter": "python",
   "pygments_lexer": "ipython3",
   "version": "3.9.13"
  }
 },
 "nbformat": 4,
 "nbformat_minor": 5
}
