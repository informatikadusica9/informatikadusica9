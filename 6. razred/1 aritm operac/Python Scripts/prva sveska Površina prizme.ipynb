{
 "cells": [
  {
   "cell_type": "code",
   "execution_count": 3,
   "id": "655357b6",
   "metadata": {},
   "outputs": [],
   "source": [
    "import math"
   ]
  },
  {
   "cell_type": "code",
   "execution_count": 4,
   "id": "fee4a2e1",
   "metadata": {},
   "outputs": [
    {
     "name": "stdout",
     "output_type": "stream",
     "text": [
      "unesi stranicu a: 4\n",
      "unesi visina h: 5\n"
     ]
    }
   ],
   "source": [
    "a=int(input(\"unesi stranicu a: \"))\n",
    "h=int(input(\"unesi visina h: \"))"
   ]
  },
  {
   "cell_type": "code",
   "execution_count": 5,
   "id": "1eece798",
   "metadata": {},
   "outputs": [],
   "source": [
    "B = (a**2 * math.sqrt(3))/4\n",
    "M = 3 * a * h\n",
    "P = 2 * B + M"
   ]
  },
  {
   "cell_type": "code",
   "execution_count": 6,
   "id": "59d424ff",
   "metadata": {},
   "outputs": [
    {
     "name": "stdout",
     "output_type": "stream",
     "text": [
      "Površina prizme je: 73.85640646055101\n"
     ]
    }
   ],
   "source": [
    "print(\"Površina prizme je:\", P)"
   ]
  }
 ],
 "metadata": {
  "kernelspec": {
   "display_name": "Python 3 (ipykernel)",
   "language": "python",
   "name": "python3"
  },
  "language_info": {
   "codemirror_mode": {
    "name": "ipython",
    "version": 3
   },
   "file_extension": ".py",
   "mimetype": "text/x-python",
   "name": "python",
   "nbconvert_exporter": "python",
   "pygments_lexer": "ipython3",
   "version": "3.9.13"
  }
 },
 "nbformat": 4,
 "nbformat_minor": 5
}
