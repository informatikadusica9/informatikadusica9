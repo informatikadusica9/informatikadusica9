{
 "cells": [
  {
   "cell_type": "code",
   "execution_count": 9,
   "id": "b5b90eac",
   "metadata": {},
   "outputs": [],
   "source": [
    "elektrokomponente=[\"r\",\"j\",\"k\"]"
   ]
  },
  {
   "cell_type": "code",
   "execution_count": 10,
   "id": "1d73c53a",
   "metadata": {},
   "outputs": [
    {
     "name": "stdout",
     "output_type": "stream",
     "text": [
      "['r', 'j', 'k']\n"
     ]
    }
   ],
   "source": [
    "print(elektrokomponente)"
   ]
  },
  {
   "cell_type": "code",
   "execution_count": 11,
   "id": "131b781f",
   "metadata": {},
   "outputs": [
    {
     "data": {
      "text/plain": [
       "['r', 'j', 'k']"
      ]
     },
     "execution_count": 11,
     "metadata": {},
     "output_type": "execute_result"
    }
   ],
   "source": [
    "elektrokomponente"
   ]
  },
  {
   "cell_type": "code",
   "execution_count": 12,
   "id": "ba972765",
   "metadata": {},
   "outputs": [],
   "source": [
    "elektrokomponente.sort(reverse=True)"
   ]
  },
  {
   "cell_type": "code",
   "execution_count": 13,
   "id": "96922476",
   "metadata": {},
   "outputs": [
    {
     "data": {
      "text/plain": [
       "['r', 'k', 'j']"
      ]
     },
     "execution_count": 13,
     "metadata": {},
     "output_type": "execute_result"
    }
   ],
   "source": [
    "elektrokomponente"
   ]
  }
 ],
 "metadata": {
  "kernelspec": {
   "display_name": "Python 3 (ipykernel)",
   "language": "python",
   "name": "python3"
  },
  "language_info": {
   "codemirror_mode": {
    "name": "ipython",
    "version": 3
   },
   "file_extension": ".py",
   "mimetype": "text/x-python",
   "name": "python",
   "nbconvert_exporter": "python",
   "pygments_lexer": "ipython3",
   "version": "3.9.13"
  }
 },
 "nbformat": 4,
 "nbformat_minor": 5
}
